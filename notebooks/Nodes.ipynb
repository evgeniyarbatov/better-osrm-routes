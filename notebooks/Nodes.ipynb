{
 "cells": [
  {
   "cell_type": "code",
   "execution_count": 9,
   "id": "3147aa03-250d-470e-aed0-4c03fcb21db3",
   "metadata": {},
   "outputs": [],
   "source": [
    "import os\n",
    "import glob\n",
    "import ast\n",
    "\n",
    "import pandas as pd"
   ]
  },
  {
   "cell_type": "code",
   "execution_count": 10,
   "id": "4f06428b-41da-4237-a4d8-f4ed272c4243",
   "metadata": {},
   "outputs": [],
   "source": [
    "def get_filename(filename):\n",
    " return os.path.splitext(os.path.basename(filename))[0]"
   ]
  },
  {
   "cell_type": "code",
   "execution_count": 25,
   "id": "8f76819e-1013-4a39-b0ad-5336ca067f03",
   "metadata": {},
   "outputs": [
    {
     "data": {
      "text/html": [
       "<div>\n",
       "<style scoped>\n",
       "    .dataframe tbody tr th:only-of-type {\n",
       "        vertical-align: middle;\n",
       "    }\n",
       "\n",
       "    .dataframe tbody tr th {\n",
       "        vertical-align: top;\n",
       "    }\n",
       "\n",
       "    .dataframe thead th {\n",
       "        text-align: right;\n",
       "    }\n",
       "</style>\n",
       "<table border=\"1\" class=\"dataframe\">\n",
       "  <thead>\n",
       "    <tr style=\"text-align: right;\">\n",
       "      <th></th>\n",
       "      <th>lat</th>\n",
       "      <th>lon</th>\n",
       "      <th>node_id</th>\n",
       "      <th>distance</th>\n",
       "      <th>filename</th>\n",
       "    </tr>\n",
       "  </thead>\n",
       "  <tbody>\n",
       "    <tr>\n",
       "      <th>0</th>\n",
       "      <td>21.030450</td>\n",
       "      <td>105.851104</td>\n",
       "      <td>6644523700</td>\n",
       "      <td>3.112705</td>\n",
       "      <td>COURSE_239959098</td>\n",
       "    </tr>\n",
       "    <tr>\n",
       "      <th>1</th>\n",
       "      <td>21.030450</td>\n",
       "      <td>105.851104</td>\n",
       "      <td>309601293</td>\n",
       "      <td>3.112705</td>\n",
       "      <td>COURSE_239959098</td>\n",
       "    </tr>\n",
       "    <tr>\n",
       "      <th>2</th>\n",
       "      <td>21.030450</td>\n",
       "      <td>105.851104</td>\n",
       "      <td>6644523700</td>\n",
       "      <td>3.112705</td>\n",
       "      <td>COURSE_239959098</td>\n",
       "    </tr>\n",
       "    <tr>\n",
       "      <th>3</th>\n",
       "      <td>21.030450</td>\n",
       "      <td>105.851104</td>\n",
       "      <td>309601293</td>\n",
       "      <td>3.112705</td>\n",
       "      <td>COURSE_239959098</td>\n",
       "    </tr>\n",
       "    <tr>\n",
       "      <th>4</th>\n",
       "      <td>21.030579</td>\n",
       "      <td>105.851061</td>\n",
       "      <td>6644523701</td>\n",
       "      <td>2.024176</td>\n",
       "      <td>COURSE_239959098</td>\n",
       "    </tr>\n",
       "  </tbody>\n",
       "</table>\n",
       "</div>"
      ],
      "text/plain": [
       "         lat         lon     node_id  distance          filename\n",
       "0  21.030450  105.851104  6644523700  3.112705  COURSE_239959098\n",
       "1  21.030450  105.851104   309601293  3.112705  COURSE_239959098\n",
       "2  21.030450  105.851104  6644523700  3.112705  COURSE_239959098\n",
       "3  21.030450  105.851104   309601293  3.112705  COURSE_239959098\n",
       "4  21.030579  105.851061  6644523701  2.024176  COURSE_239959098"
      ]
     },
     "execution_count": 25,
     "metadata": {},
     "output_type": "execute_result"
    }
   ],
   "source": [
    "node_dfs = []\n",
    "\n",
    "csv_files = glob.glob(\n",
    "    os.path.join('../gpx/nodes/', '*.csv')\n",
    ")\n",
    "for csv_file in csv_files:\n",
    "    filename = get_filename(csv_file)\n",
    "    \n",
    "    df = pd.read_csv(csv_file)\n",
    "    \n",
    "    df['filename'] = filename\n",
    "    df['nodes'] = df['nodes'].apply(ast.literal_eval)\n",
    "    \n",
    "    df = df.explode('nodes').reset_index(drop=True)\n",
    "    df = df.rename(columns={'nodes': 'node_id'})\n",
    "    \n",
    "    node_dfs.append(df)\n",
    "\n",
    "all_node_dfs = pd.concat(node_dfs).reset_index(drop=True)\n",
    "all_node_dfs.head()"
   ]
  },
  {
   "cell_type": "code",
   "execution_count": 26,
   "id": "7e6e1378-af9c-4819-aaff-5be07d919c3c",
   "metadata": {},
   "outputs": [
    {
     "data": {
      "text/plain": [
       "count    11620.000000\n",
       "mean        58.960563\n",
       "std        259.838659\n",
       "min          0.000000\n",
       "25%          0.774983\n",
       "50%          2.082945\n",
       "75%          4.158188\n",
       "max       2058.323678\n",
       "Name: distance, dtype: float64"
      ]
     },
     "execution_count": 26,
     "metadata": {},
     "output_type": "execute_result"
    }
   ],
   "source": [
    "all_node_dfs['distance'].describe()"
   ]
  },
  {
   "cell_type": "code",
   "execution_count": 30,
   "id": "f616cea3-c19d-40cf-b87d-47c3983cd065",
   "metadata": {},
   "outputs": [
    {
     "data": {
      "text/plain": [
       "8548"
      ]
     },
     "execution_count": 30,
     "metadata": {},
     "output_type": "execute_result"
    }
   ],
   "source": [
    "(all_node_dfs['distance'] <= 4).sum()"
   ]
  },
  {
   "cell_type": "code",
   "execution_count": 31,
   "id": "45b44bf1-1a1f-4db4-a85a-e9658ed1d8d9",
   "metadata": {},
   "outputs": [
    {
     "data": {
      "text/plain": [
       "3072"
      ]
     },
     "execution_count": 31,
     "metadata": {},
     "output_type": "execute_result"
    }
   ],
   "source": [
    "(all_node_dfs['distance'] > 4).sum()"
   ]
  },
  {
   "cell_type": "code",
   "execution_count": null,
   "id": "c7fe8be1-92a2-4a79-902a-83681098e23c",
   "metadata": {},
   "outputs": [],
   "source": [
    "mask = df['distance'] > 4"
   ]
  }
 ],
 "metadata": {
  "kernelspec": {
   "display_name": "Python 3 (ipykernel)",
   "language": "python",
   "name": "python3"
  },
  "language_info": {
   "codemirror_mode": {
    "name": "ipython",
    "version": 3
   },
   "file_extension": ".py",
   "mimetype": "text/x-python",
   "name": "python",
   "nbconvert_exporter": "python",
   "pygments_lexer": "ipython3",
   "version": "3.9.6"
  }
 },
 "nbformat": 4,
 "nbformat_minor": 5
}
